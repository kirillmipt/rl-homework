{
 "cells": [
  {
   "cell_type": "code",
   "execution_count": 7,
   "metadata": {},
   "outputs": [],
   "source": [
    "import sys\n",
    "import gym\n",
    "import random\n",
    "import numpy as np\n",
    "from collections import defaultdict"
   ]
  },
  {
   "cell_type": "code",
   "execution_count": 8,
   "metadata": {},
   "outputs": [],
   "source": [
    "import numpy as np\n",
    "from mpl_toolkits.mplot3d import Axes3D\n",
    "import matplotlib.pyplot as plt\n",
    "from mpl_toolkits.axes_grid1 import make_axes_locatable"
   ]
  },
  {
   "cell_type": "markdown",
   "metadata": {},
   "source": [
    "Blackjack is a card game where the goal is to obtain cards that sum to as\n",
    "near as possible to 21 without going over.  They're playing against a fixed\n",
    "dealer.\n",
    "\n",
    "Face cards (Jack, Queen, King) have point value 10.\n",
    "Aces can either count as 11 or 1, and it's called 'usable' at 11.\n",
    "This game is placed with an infinite deck (or with replacement).\n",
    "The game starts with dealer having one face up and one face down card, while\n",
    "player having two face up cards. (Virtually for all Blackjack games today).\n",
    "The player can **request additional cards (hit=1)** until they decide to **stop\n",
    "(stick=0)** or **exceed 21 (bust)**.\n",
    "\n",
    "After the player sticks, the dealer reveals their facedown card, and draws\n",
    "until their sum is 17 or greater.  If the dealer goes bust the player wins.\n",
    "If neither player nor dealer busts, the outcome (win, lose, draw) is\n",
    "decided by whose sum is closer to 21.  The reward for winning is +1,\n",
    "drawing is 0, and losing is -1.\n",
    "\n",
    "The observation of a 3-tuple of: the players current sum,\n",
    "the dealer's one showing card (1-10 where 1 is ace),\n",
    "and whether or not the player holds a usable ace (0 or 1)."
   ]
  },
  {
   "cell_type": "code",
   "execution_count": 26,
   "metadata": {},
   "outputs": [],
   "source": [
    "def to_index(S):\n",
    "    return tuple(int(x) for x in S)"
   ]
  },
  {
   "cell_type": "markdown",
   "metadata": {},
   "source": [
    "Each state is a 3-tuple of:\n",
    "\n",
    "the player's current sum $\\in \\{0, 1, \\ldots, 31\\}$,\n",
    "the dealer's face up card $\\in \\{1, \\ldots, 10\\}$, and\n",
    "whether or not the player has a usable ace (no $=0$, yes $=1$).\n",
    "The agent has two potential actions:\n",
    "\n",
    "* STICK = 0\n",
    "* HIT = 1\n"
   ]
  },
  {
   "cell_type": "markdown",
   "metadata": {},
   "source": [
    "* численные значения карт равны от 2 до 10 для карт от двойки до десятки, 10 для валетов, дам и королей;\n",
    "* туз считается за 11 очков, если общая сумма карт на руке при этом не превосходит 21 (по-английски в этом случае говорят, что на руке есть usable ace), и за 1 очко, если превосходит;\n",
    "* игроку раздаются две карты, дилеру — одна в открытую и одна в закрытую;\n",
    "* игрок может совершать одно из двух действий:\n",
    "    - hit  — взять ещё одну карту;\n",
    "    - stand — не брать больше карт;\n",
    "* если сумма очков у игрока на руках больше 21, он проигрывает (bust);\n",
    "* если игрок выбирает stand с суммой не больше 21, дилер добирает карты, пока сумма карт в его руке меньше 17;\n",
    "* после этого игрок выигрывает, если дилер либо превышает 21, либо получает сумму очков меньше, чем сумма очков у игрока; при равенстве очков объявляется ничья (ставка возвращается);\n",
    "* в исходных правилах есть ещё дополнительный бонус за natural blackjack: если игрок набирает 21 очко с раздачи, двумя картами, он выигрывает не +1, а +1.5 (полторы ставки).\n"
   ]
  },
  {
   "cell_type": "code",
   "execution_count": 17,
   "metadata": {},
   "outputs": [
    {
     "name": "stdout",
     "output_type": "stream",
     "text": [
      "(15, 9, False)\n",
      "End game! Reward:  -1.0\n",
      "You lost :(\n",
      "\n",
      "(13, 10, False)\n",
      "End game! Reward:  -1.0\n",
      "You lost :(\n",
      "\n",
      "(21, 8, True)\n",
      "End game! Reward:  1.5\n",
      "You won :)\n",
      "\n",
      "(20, 4, False)\n",
      "End game! Reward:  -1.0\n",
      "You lost :(\n",
      "\n",
      "(6, 10, False)\n",
      "End game! Reward:  -1.0\n",
      "You lost :(\n",
      "\n"
     ]
    }
   ],
   "source": [
    "env = gym.make('Blackjack-v0', natural=True)\n",
    "\n",
    "for i_episode in range(5):\n",
    "    state = env.reset()\n",
    "    while True:\n",
    "        print(state)\n",
    "        action = env.action_space.sample()\n",
    "        state, reward, done, info = env.step(action)\n",
    "        if done:\n",
    "            print('End game! Reward: ', reward)\n",
    "            print('You won :)\\n') if reward > 0 else print('You lost :(\\n')\n",
    "            break"
   ]
  },
  {
   "cell_type": "markdown",
   "metadata": {},
   "source": [
    "## Part 1"
   ]
  },
  {
   "cell_type": "markdown",
   "metadata": {},
   "source": [
    "**1. Рассмотрим очень простую стратегию:**\n",
    "* **говорить stand, если у нас на руках комбинация в 19, 20 или 21 очко**\n",
    "* **во всех остальных случаях говорить hit**\n",
    "\n",
    "**Используйте методы Монте-Карло, чтобы оценить выигрыш от этой стратегии.**"
   ]
  },
  {
   "cell_type": "code",
   "execution_count": 19,
   "metadata": {},
   "outputs": [],
   "source": [
    "env = gym.make('Blackjack-v0', natural=True)"
   ]
  },
  {
   "cell_type": "code",
   "execution_count": 20,
   "metadata": {},
   "outputs": [],
   "source": [
    "env.seed(42);"
   ]
  },
  {
   "cell_type": "code",
   "execution_count": 21,
   "metadata": {},
   "outputs": [],
   "source": [
    "HIT = 1\n",
    "STAND = 0"
   ]
  },
  {
   "cell_type": "code",
   "execution_count": 22,
   "metadata": {},
   "outputs": [],
   "source": [
    "def simple_policy(observation):\n",
    "    score, _, _ = observation\n",
    "    return STAND if score >= 19 else HIT"
   ]
  },
  {
   "cell_type": "markdown",
   "metadata": {},
   "source": [
    "Для начала оценим средний выигрыш в игре по данной стратегии (усредняя по начальным состояниям)"
   ]
  },
  {
   "cell_type": "code",
   "execution_count": 23,
   "metadata": {},
   "outputs": [],
   "source": [
    "N_EXPERIMENTS = 1_000_000\n",
    "# N_EXPERIMENTS = 100_000"
   ]
  },
  {
   "cell_type": "code",
   "execution_count": 24,
   "metadata": {},
   "outputs": [
    {
     "name": "stdout",
     "output_type": "stream",
     "text": [
      "CPU times: user 48.6 s, sys: 249 ms, total: 48.9 s\n",
      "Wall time: 49.6 s\n"
     ]
    }
   ],
   "source": [
    "%%time\n",
    "\n",
    "reward_history = []\n",
    "step_history = []\n",
    "for i in range(N_EXPERIMENTS):\n",
    "    \n",
    "    done = False\n",
    "    observation = env.reset()\n",
    "    step = 0\n",
    "    \n",
    "    while not done:\n",
    "        action = simple_policy(observation)\n",
    "        observation, reward, done, info = env.step(action)\n",
    "        step += 1\n",
    "        \n",
    "    reward_history.append(reward)\n",
    "    step_history.append(step)"
   ]
  },
  {
   "cell_type": "code",
   "execution_count": 25,
   "metadata": {},
   "outputs": [
    {
     "name": "stdout",
     "output_type": "stream",
     "text": [
      "Средняя награда: -0.17984\n"
     ]
    }
   ],
   "source": [
    "print(f\"Средняя награда: {np.mean(reward_history): .5f}\")"
   ]
  },
  {
   "cell_type": "code",
   "execution_count": 26,
   "metadata": {},
   "outputs": [
    {
     "name": "stdout",
     "output_type": "stream",
     "text": [
      "Среднее число шагов:  1.74512\n"
     ]
    }
   ],
   "source": [
    "print(f'Среднее число шагов: {np.mean(step_history): .5f}')"
   ]
  },
  {
   "cell_type": "code",
   "execution_count": 27,
   "metadata": {},
   "outputs": [
    {
     "name": "stdout",
     "output_type": "stream",
     "text": [
      "Средний процент выигрышей:  0.36188\n"
     ]
    }
   ],
   "source": [
    "print(f\"Средний процент выигрышей: {np.mean(np.array(reward_history) > 0): .5f}\")"
   ]
  },
  {
   "cell_type": "markdown",
   "metadata": {},
   "source": [
    "**Question: Используйте методы Монте-Карло, чтобы оценить выигрыш от этой стратегии.**\n",
    "\n",
    "**Answer: -0.17984**"
   ]
  },
  {
   "cell_type": "markdown",
   "metadata": {},
   "source": [
    "----------------------------------"
   ]
  },
  {
   "cell_type": "markdown",
   "metadata": {},
   "source": [
    "**2. Реализуйте метод обучения с подкреплением без модели (можно Q-обучение, но рекомендую попробовать и другие, например Monte Carlo control) для обучения стратегии в блекджеке, используя окружение Blackjack-v0 из OpenAI Gym.**\n"
   ]
  },
  {
   "cell_type": "markdown",
   "metadata": {},
   "source": [
    "**TD-обучение: off-policy (Q-обучение)** "
   ]
  },
  {
   "cell_type": "code",
   "execution_count": 177,
   "metadata": {},
   "outputs": [],
   "source": [
    "# alpha=0.25\n",
    "# epsilon=0.5\n",
    "# gamma=0.1\n",
    "\n",
    "alpha=0.2\n",
    "epsilon=0.5\n",
    "gamma=0.1"
   ]
  },
  {
   "cell_type": "code",
   "execution_count": 186,
   "metadata": {},
   "outputs": [
    {
     "name": "stdout",
     "output_type": "stream",
     "text": [
      "CPU times: user 2min 33s, sys: 1.73 s, total: 2min 34s\n",
      "Wall time: 2min 40s\n"
     ]
    }
   ],
   "source": [
    "%%time\n",
    "\n",
    "Q_td = np.random.rand(\n",
    "    *(x.n for x in env.observation_space), env.action_space.n\n",
    ") * 2 - 1\n",
    "\n",
    "for i in range(N_EXPERIMENTS):\n",
    "\n",
    "    observation = env.reset()\n",
    "    done = False\n",
    "\n",
    "    while not done:\n",
    "        a_star = Q_td[to_index(observation)].argmax()\n",
    "        ps = np.ones(env.action_space.n) * epsilon / env.action_space.n\n",
    "        ps[a_star] = 1 - epsilon + epsilon / env.action_space.n\n",
    "        At = np.random.choice(np.arange(env.action_space.n), p = ps / ps.sum())\n",
    "\n",
    "        St = observation\n",
    "        observation, reward, done, info = env.step(At)\n",
    "        Q_td[(*to_index(St), At)] += alpha * (reward + gamma * Q_td[to_index(observation)].max() - Q_td[(*to_index(St), At)])"
   ]
  },
  {
   "cell_type": "code",
   "execution_count": 179,
   "metadata": {},
   "outputs": [],
   "source": [
    "pi = Q_td.argmax(axis=-1)"
   ]
  },
  {
   "cell_type": "code",
   "execution_count": 180,
   "metadata": {},
   "outputs": [
    {
     "name": "stdout",
     "output_type": "stream",
     "text": [
      "CPU times: user 53.9 s, sys: 568 ms, total: 54.4 s\n",
      "Wall time: 56.3 s\n"
     ]
    }
   ],
   "source": [
    "%%time\n",
    "\n",
    "reward_history = []\n",
    "step_history = []\n",
    "for i in range(N_EXPERIMENTS):\n",
    "    \n",
    "    done = False\n",
    "    observation = env.reset()\n",
    "    step = 0\n",
    "    \n",
    "    while not done:\n",
    "        action = pi[to_index(observation)]\n",
    "        observation, reward, done, info = env.step(action)\n",
    "        step += 1\n",
    "        \n",
    "    reward_history.append(reward)\n",
    "    step_history.append(step)\n",
    "    "
   ]
  },
  {
   "cell_type": "code",
   "execution_count": 181,
   "metadata": {},
   "outputs": [
    {
     "name": "stdout",
     "output_type": "stream",
     "text": [
      "Средняя награда: -0.07786\n"
     ]
    }
   ],
   "source": [
    "print(f\"Средняя награда: {np.mean(reward_history): .5f}\")"
   ]
  },
  {
   "cell_type": "code",
   "execution_count": 182,
   "metadata": {},
   "outputs": [
    {
     "name": "stdout",
     "output_type": "stream",
     "text": [
      "Среднее число шагов:  1.56947\n"
     ]
    }
   ],
   "source": [
    "print(f'Среднее число шагов: {np.mean(step_history): .5f}')"
   ]
  },
  {
   "cell_type": "code",
   "execution_count": 183,
   "metadata": {},
   "outputs": [
    {
     "name": "stdout",
     "output_type": "stream",
     "text": [
      "Средний процент выигрышей:  0.40656\n"
     ]
    }
   ],
   "source": [
    "print(f\"Средний процент выигрышей: {np.mean(np.array(reward_history) > 0): .5f}\")"
   ]
  },
  {
   "cell_type": "code",
   "execution_count": 184,
   "metadata": {},
   "outputs": [],
   "source": [
    "cum_average_reward = np.cumsum(reward_history) / np.arange(1, len(reward_history) + 1)"
   ]
  },
  {
   "cell_type": "code",
   "execution_count": 185,
   "metadata": {},
   "outputs": [
    {
     "data": {
      "image/png": "[encoded data removed]",
      "text/plain": [
       "<Figure size 720x360 with 1 Axes>"
      ]
     },
     "metadata": {
      "needs_background": "light"
     },
     "output_type": "display_data"
    }
   ],
   "source": [
    "plt.figure(figsize=(10, 5))\n",
    "plt.plot(cum_average_reward, label=\"q_learning\")\n",
    "plt.ylim([-0.2, 0])\n",
    "plt.grid()\n",
    "plt.legend();"
   ]
  },
  {
   "cell_type": "markdown",
   "metadata": {},
   "source": [
    "## Part 2"
   ]
  },
  {
   "cell_type": "markdown",
   "metadata": {},
   "source": [
    "В базовый блекджек, описанный в предыдущем разделе, обыграть казино вряд ли получится. Но, к счастью, на этом история не заканчивается. Описанные выше правила были упрощёнными, а на самом деле у игрока есть ещё и другие возможности. Реализовывать split может оказаться непросто, поэтому давайте ограничимся удвоением ставки. \n",
    "\n",
    "Итак, у игрока появляется дополнительное действие:\n",
    "\n",
    "* **double** — удвоить ставку; при этом больше действий делать нельзя, игроку выдаётся ровно одна дополнительная карта, а выигрыш или проигрыш удваивается.\n",
    "\n",
    "Реализуйте новый вариант блекджека на основе окружения Blackjack-v0 из OpenAI Gym, в котором разрешено удвоение ставки.\n",
    "Реализуйте метод обучения с подкреплением без модели для этого варианта, постройте графики, аналогичные п.2."
   ]
  },
  {
   "cell_type": "code",
   "execution_count": 32,
   "metadata": {},
   "outputs": [],
   "source": [
    "env = gym.make('Blackjack-v0', natural=True)"
   ]
  },
  {
   "cell_type": "code",
   "execution_count": 33,
   "metadata": {},
   "outputs": [],
   "source": [
    "env.seed(42);"
   ]
  },
  {
   "cell_type": "code",
   "execution_count": 34,
   "metadata": {},
   "outputs": [],
   "source": [
    "def double_step(self, action):\n",
    "    assert self.action_space.contains(action)\n",
    "    if action == 1:  # hit: add a card to players hand and return\n",
    "        self.player.append(draw_card(self.np_random))\n",
    "        if is_bust(self.player):\n",
    "            done = True\n",
    "            reward = -1.\n",
    "        else:\n",
    "            done = False\n",
    "            reward = 0.\n",
    "    elif action == 0:  # stick: play out the dealers hand, and score\n",
    "        done = True\n",
    "        while sum_hand(self.dealer) < 17:\n",
    "            self.dealer.append(draw_card(self.np_random))\n",
    "        reward = cmp(score(self.player), score(self.dealer))\n",
    "        if self.natural and is_natural(self.player) and reward == 1.:\n",
    "            reward = 1.5\n",
    "    elif action == 2:\n",
    "        self.player.append(draw_card(self.np_random))\n",
    "        done = True\n",
    "        while sum_hand(self.dealer) < 17:\n",
    "            self.dealer.append(draw_card(self.np_random))\n",
    "        reward = cmp(score(self.player), score(self.dealer))\n",
    "        if self.natural and is_natural(self.player) and reward == 1.:\n",
    "            reward = 1.5\n",
    "        reward *= 2\n",
    "    return self._get_obs(), reward, done, {}"
   ]
  },
  {
   "cell_type": "code",
   "execution_count": 35,
   "metadata": {},
   "outputs": [],
   "source": [
    "from gym.envs.toy_text.blackjack import *"
   ]
  },
  {
   "cell_type": "code",
   "execution_count": 36,
   "metadata": {},
   "outputs": [],
   "source": [
    "env.step = double_step.__get__(env)\n",
    "env.action_space = spaces.Discrete(3)"
   ]
  },
  {
   "cell_type": "code",
   "execution_count": 37,
   "metadata": {},
   "outputs": [],
   "source": [
    "N_EXPERIMENTS = 1_000_000\n",
    "# N_EXPERIMENTS = 100_000"
   ]
  },
  {
   "cell_type": "code",
   "execution_count": 38,
   "metadata": {},
   "outputs": [],
   "source": [
    "# alpha=0.25\n",
    "# epsilon=0.5\n",
    "# gamma=0.1\n",
    "\n",
    "alpha=0.2\n",
    "epsilon=0.5\n",
    "gamma=0.1"
   ]
  },
  {
   "cell_type": "code",
   "execution_count": 160,
   "metadata": {},
   "outputs": [
    {
     "name": "stdout",
     "output_type": "stream",
     "text": [
      "CPU times: user 2min 30s, sys: 2.23 s, total: 2min 32s\n",
      "Wall time: 2min 39s\n"
     ]
    }
   ],
   "source": [
    "%%time\n",
    "\n",
    "Q_td = np.random.rand(\n",
    "    *(x.n for x in env.observation_space), env.action_space.n\n",
    ") * 2 - 1\n",
    "\n",
    "for i in range(N_EXPERIMENTS):\n",
    "\n",
    "    observation = env.reset()\n",
    "    done = False\n",
    "\n",
    "    while not done:\n",
    "        a_star = Q_td[to_index(observation)].argmax()\n",
    "        ps = np.ones(env.action_space.n) * epsilon / env.action_space.n\n",
    "        ps[a_star] = 1 - epsilon + epsilon / env.action_space.n\n",
    "        At = np.random.choice(np.arange(env.action_space.n), p = ps / ps.sum())\n",
    "\n",
    "        St = observation\n",
    "        observation, reward, done, info = env.step(At)\n",
    "        Q_td[(*to_index(St), At)] += alpha * (reward + gamma * Q_td[to_index(observation)].max() - Q_td[(*to_index(St), At)])"
   ]
  },
  {
   "cell_type": "code",
   "execution_count": 161,
   "metadata": {},
   "outputs": [],
   "source": [
    "pi = Q_td.argmax(axis=-1)"
   ]
  },
  {
   "cell_type": "code",
   "execution_count": 162,
   "metadata": {},
   "outputs": [
    {
     "name": "stdout",
     "output_type": "stream",
     "text": [
      "CPU times: user 54.7 s, sys: 535 ms, total: 55.2 s\n",
      "Wall time: 57.3 s\n"
     ]
    }
   ],
   "source": [
    "%%time\n",
    "\n",
    "reward_history = []\n",
    "step_history = []\n",
    "for i in range(N_EXPERIMENTS):\n",
    "    \n",
    "    done = False\n",
    "    observation = env.reset()\n",
    "    step = 0\n",
    "    \n",
    "    while not done:\n",
    "        action = pi[to_index(observation)]\n",
    "        observation, reward, done, info = env.step(action)\n",
    "        step += 1\n",
    "        \n",
    "    reward_history.append(reward)\n",
    "    step_history.append(step)"
   ]
  },
  {
   "cell_type": "code",
   "execution_count": 163,
   "metadata": {},
   "outputs": [
    {
     "name": "stdout",
     "output_type": "stream",
     "text": [
      "Средняя награда: -0.06241\n"
     ]
    }
   ],
   "source": [
    "print(f\"Средняя награда: {np.mean(reward_history): .5f}\")"
   ]
  },
  {
   "cell_type": "code",
   "execution_count": 164,
   "metadata": {},
   "outputs": [
    {
     "name": "stdout",
     "output_type": "stream",
     "text": [
      "Среднее число шагов:  1.47554\n"
     ]
    }
   ],
   "source": [
    "print(f'Среднее число шагов: {np.mean(step_history): .5f}')"
   ]
  },
  {
   "cell_type": "code",
   "execution_count": 165,
   "metadata": {},
   "outputs": [
    {
     "name": "stdout",
     "output_type": "stream",
     "text": [
      "Средний процент выигрышей:  0.41197\n"
     ]
    }
   ],
   "source": [
    "print(f\"Средний процент выигрышей: {np.mean(np.array(reward_history) > 0): .5f}\")"
   ]
  },
  {
   "cell_type": "code",
   "execution_count": 166,
   "metadata": {},
   "outputs": [],
   "source": [
    "cum_average_reward = np.cumsum(reward_history) / np.arange(1, len(reward_history) + 1)"
   ]
  },
  {
   "cell_type": "code",
   "execution_count": 167,
   "metadata": {},
   "outputs": [
    {
     "data": {
      "image/png": "[encoded data removed]",
      "text/plain": [
       "<Figure size 720x360 with 1 Axes>"
      ]
     },
     "metadata": {
      "needs_background": "light"
     },
     "output_type": "display_data"
    }
   ],
   "source": [
    "plt.figure(figsize=(10, 5))\n",
    "plt.plot(cum_average_reward, label=\"q_learning\")\n",
    "plt.ylim([-0.2, 0])\n",
    "plt.grid()\n",
    "plt.legend();"
   ]
  },
  {
   "cell_type": "markdown",
   "metadata": {},
   "source": [
    "## Part 3"
   ]
  },
  {
   "cell_type": "markdown",
   "metadata": {
    "pycharm": {
     "name": "#%% md\n"
    }
   },
   "source": [
    "**Реализуйте вариант окружения Blackjack-v0 из предыдущей части (с удвоением), в котором игрок имеет возможность “считать карты” в колоде**"
   ]
  },
  {
   "cell_type": "markdown",
   "metadata": {},
   "source": [
    "**[система подсчёта «Плюс-минус»](https://ru.wikipedia.org/wiki/%D0%91%D0%BB%D1%8D%D0%BA%D0%B4%D0%B6%D0%B5%D0%BA)** "
   ]
  },
  {
   "cell_type": "markdown",
   "metadata": {},
   "source": [
    "* 2, 3, 4, 5, 6: будет +1\n",
    "* 7, 8, 9: будет 0\n",
    "* 10, В, Д, К, Т: будет −1"
   ]
  },
  {
   "cell_type": "code",
   "execution_count": 146,
   "metadata": {},
   "outputs": [],
   "source": [
    "import gym\n",
    "from gym import spaces\n",
    "from gym.utils import seeding\n",
    "\n",
    "def cmp(a, b):\n",
    "    return float(a > b) - float(a < b)\n",
    "\n",
    "def draw_hand(deck):\n",
    "    return [draw_card(deck), draw_card(deck)]\n",
    "\n",
    "\n",
    "def usable_ace(hand):  # Does this hand have a usable ace?\n",
    "    return 1 in hand and sum(hand) + 10 <= 21\n",
    "\n",
    "\n",
    "def sum_hand(hand):  # Return current hand total\n",
    "    if usable_ace(hand):\n",
    "        return sum(hand) + 10\n",
    "    return sum(hand)\n",
    "\n",
    "\n",
    "def is_bust(hand):  # Is this hand a bust?\n",
    "    return sum_hand(hand) > 21\n",
    "\n",
    "\n",
    "def score(hand):  # What is the score of this hand (0 if bust)\n",
    "    return 0 if is_bust(hand) else sum_hand(hand)\n",
    "\n",
    "\n",
    "def is_natural(hand):  # Is this hand a natural blackjack?\n",
    "    return sorted(hand) == [1, 10]\n",
    "\n",
    "\n",
    "scores_dict = {2: 1, 3: 1, 4: 1, 5: 1, 6: 1, 1: -1, 10: -1}\n",
    "\n",
    "\n",
    "class BlackjackEnv(gym.Env):\n",
    "\n",
    "    def __init__(self, natural=False):\n",
    "        \n",
    "        self.deck = random.sample(initial_deck, len(initial_deck))\n",
    "        self.count_statistic = 0\n",
    "        \n",
    "        self.action_space = spaces.Discrete(3)\n",
    "        self.observation_space = spaces.Tuple((\n",
    "            spaces.Discrete(32),\n",
    "            spaces.Discrete(11),\n",
    "            spaces.Discrete(2),\n",
    "            spaces.Discrete(3)\n",
    "        ))\n",
    "        \n",
    "        self.seed()\n",
    "        self.natural = natural\n",
    "        self.reset()\n",
    "\n",
    "    def seed(self, seed=None):\n",
    "        self.np_random, seed = seeding.np_random(seed)\n",
    "        return [seed]\n",
    "\n",
    "    def step(self, action):\n",
    "        assert self.action_space.contains(action)\n",
    "        if action == 1:  # hit: add a card to players hand and return\n",
    "            cur_card = self.draw_card(self.np_random)\n",
    "            self.update_card_count(cur_card)\n",
    "            self.player.append(cur_card)\n",
    "            if is_bust(self.player):\n",
    "                done = True\n",
    "                reward = -1.\n",
    "            else:\n",
    "                done = False\n",
    "                reward = 0.\n",
    "        elif action == 0:\n",
    "            done = True\n",
    "            while sum_hand(self.dealer) < 17:\n",
    "                self.dealer.append(self.draw_card(self.deck))\n",
    "            reward = cmp(score(self.player), score(self.dealer))\n",
    "            if self.natural and is_natural(self.player) and reward == 1.:\n",
    "                reward = 1.5\n",
    "            for card in self.dealer[1:]:\n",
    "                self.update_card_count(card)\n",
    "        else:\n",
    "            self.player.append(self.draw_card(self.deck))\n",
    "            done = True\n",
    "            if is_bust(self.player):\n",
    "                reward = -1.\n",
    "            else:\n",
    "                while sum_hand(self.dealer) < 17:\n",
    "                    self.dealer.append(self.draw_card(self.deck))\n",
    "                reward = cmp(score(self.player), score(self.dealer))\n",
    "                if self.natural and is_natural(self.player) and reward == 1.:\n",
    "                    reward = 1.5\n",
    "            reward *= 2\n",
    "            for card in self.dealer[1:]:\n",
    "                self.update_card_count(card)\n",
    "            \n",
    "        return self._get_obs(), reward, done, {}\n",
    "\n",
    "    def _get_obs(self):\n",
    "        return (sum_hand(self.player), self.dealer[0], usable_ace(self.player), self.get_count_statistics())\n",
    "\n",
    "    def reset(self):\n",
    "        if len(self.deck) < 15:\n",
    "            self.deck = random.sample(initial_deck, len(initial_deck))\n",
    "            self.coutn_stat = 0\n",
    "            \n",
    "        self.dealer = draw_hand(self.deck)\n",
    "        self.player = draw_hand(self.deck)\n",
    "        \n",
    "        for card in [self.dealer[0], self.player[0], self.player[1]]:\n",
    "            self.update_card_count(card)\n",
    "        \n",
    "        return self._get_obs()\n",
    "    \n",
    "    def get_count_statistics(self):\n",
    "        if self.count_statistic > 0:\n",
    "            return 2\n",
    "        elif self.count_statistic == 0:\n",
    "            return 1\n",
    "        return 0\n",
    "    \n",
    "    def update_card_count(self, card):\n",
    "        self.count_statistic += scores_dict.get(card, 0)\n",
    "        \n",
    "    def draw_card(self, deck):\n",
    "        card = self.deck[0]\n",
    "        self.deck.remove(card)\n",
    "        return card"
   ]
  },
  {
   "cell_type": "code",
   "execution_count": 135,
   "metadata": {},
   "outputs": [],
   "source": [
    "env = BlackjackEnv(natural=True)"
   ]
  },
  {
   "cell_type": "code",
   "execution_count": 136,
   "metadata": {},
   "outputs": [],
   "source": [
    "N_EXPERIMENTS = 1_000_000\n",
    "# N_EXPERIMENTS = 100_000"
   ]
  },
  {
   "cell_type": "code",
   "execution_count": 137,
   "metadata": {},
   "outputs": [],
   "source": [
    "# alpha=0.25\n",
    "# epsilon=0.5\n",
    "# gamma=0.1\n",
    "\n",
    "alpha=0.2\n",
    "epsilon=0.5\n",
    "gamma=0.1"
   ]
  },
  {
   "cell_type": "code",
   "execution_count": 138,
   "metadata": {},
   "outputs": [
    {
     "name": "stdout",
     "output_type": "stream",
     "text": [
      "CPU times: user 2min 5s, sys: 1.8 s, total: 2min 6s\n",
      "Wall time: 2min 11s\n"
     ]
    }
   ],
   "source": [
    "%%time\n",
    "\n",
    "Q_td = np.random.rand(\n",
    "    *(x.n for x in env.observation_space), env.action_space.n\n",
    ") * 2 - 1\n",
    "\n",
    "for i in range(N_EXPERIMENTS):\n",
    "\n",
    "    observation = env.reset()\n",
    "    done = False\n",
    "\n",
    "    while not done:\n",
    "        a_star = Q_td[to_index(observation)].argmax()\n",
    "        ps = np.ones(env.action_space.n) * epsilon / env.action_space.n\n",
    "        ps[a_star] = 1 - epsilon + epsilon / env.action_space.n\n",
    "        At = np.random.choice(np.arange(env.action_space.n), p = ps / ps.sum())\n",
    "\n",
    "        St = observation\n",
    "        observation, reward, done, info = env.step(At)\n",
    "        Q_td[(*to_index(St), At)] += alpha * (reward + gamma * Q_td[to_index(observation)].max() - Q_td[(*to_index(St), At)])"
   ]
  },
  {
   "cell_type": "code",
   "execution_count": 139,
   "metadata": {},
   "outputs": [],
   "source": [
    "pi = Q_td.argmax(axis=-1)"
   ]
  },
  {
   "cell_type": "code",
   "execution_count": 140,
   "metadata": {},
   "outputs": [
    {
     "name": "stdout",
     "output_type": "stream",
     "text": [
      "CPU times: user 25.3 s, sys: 297 ms, total: 25.6 s\n",
      "Wall time: 27.1 s\n"
     ]
    }
   ],
   "source": [
    "%%time\n",
    "\n",
    "reward_history = []\n",
    "step_history = []\n",
    "for i in range(N_EXPERIMENTS):\n",
    "    \n",
    "    done = False\n",
    "    observation = env.reset()\n",
    "    step = 0\n",
    "    \n",
    "    while not done:\n",
    "        action = pi[to_index(observation)]\n",
    "        observation, reward, done, info = env.step(action)\n",
    "        step += 1\n",
    "        \n",
    "    reward_history.append(reward)\n",
    "    step_history.append(step)"
   ]
  },
  {
   "cell_type": "code",
   "execution_count": 148,
   "metadata": {},
   "outputs": [
    {
     "name": "stdout",
     "output_type": "stream",
     "text": [
      "Средняя награда: -0.03265\n"
     ]
    }
   ],
   "source": [
    "print(f\"Средняя награда: {np.mean(reward_history): .5f}\")"
   ]
  },
  {
   "cell_type": "code",
   "execution_count": 142,
   "metadata": {},
   "outputs": [
    {
     "name": "stdout",
     "output_type": "stream",
     "text": [
      "Среднее число шагов:  1.43708\n"
     ]
    }
   ],
   "source": [
    "print(f'Среднее число шагов: {np.mean(step_history): .5f}')"
   ]
  },
  {
   "cell_type": "code",
   "execution_count": 143,
   "metadata": {},
   "outputs": [
    {
     "name": "stdout",
     "output_type": "stream",
     "text": [
      "Средний процент выигрышей:  0.41666\n"
     ]
    }
   ],
   "source": [
    "print(f\"Средний процент выигрышей: {np.mean(np.array(reward_history) > 0): .5f}\")"
   ]
  },
  {
   "cell_type": "code",
   "execution_count": 149,
   "metadata": {},
   "outputs": [],
   "source": [
    "cum_average_reward = np.cumsum(reward_history) / np.arange(1, len(reward_history) + 1)"
   ]
  },
  {
   "cell_type": "code",
   "execution_count": 150,
   "metadata": {
    "pycharm": {
     "name": "#%%\n"
    }
   },
   "outputs": [
    {
     "data": {
      "image/png": "[encoded data removed]",
      "text/plain": [
       "<Figure size 720x360 with 1 Axes>"
      ]
     },
     "metadata": {
      "needs_background": "light"
     },
     "output_type": "display_data"
    }
   ],
   "source": [
    "plt.figure(figsize=(10, 5))\n",
    "plt.plot(cum_average_reward, label=\"q_learning\")\n",
    "plt.ylim([-0.2, 0])\n",
    "plt.grid()\n",
    "plt.legend();"
   ]
  }
 ],
 "metadata": {
  "kernelspec": {
   "display_name": "Python 3",
   "language": "python",
   "name": "python3"
  },
  "language_info": {
   "codemirror_mode": {
    "name": "ipython",
    "version": 3
   },
   "file_extension": ".py",
   "mimetype": "text/x-python",
   "name": "python",
   "nbconvert_exporter": "python",
   "pygments_lexer": "ipython3",
   "version": "3.7.7"
  }
 },
 "nbformat": 4,
 "nbformat_minor": 4
}